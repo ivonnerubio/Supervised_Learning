{
 "cells": [
  {
   "attachments": {},
   "cell_type": "markdown",
   "metadata": {},
   "source": [
    "## Cost Function\n",
    "\n",
    "### 1. Problem Understanding\n",
    "\n",
    "-   What is the problem you are trying to solve\n",
    "\n",
    "    The problem trying to be solved with the cost function is to find the difference between a predicted y value and a real y value. The cost or returned value is the measure of how well the model is predicting its target data.\n",
    "\n",
    "-   What kind of data are you working with?\n",
    "\n",
    "    The data being worked on is a list or numpy arrays. One is for the x values and another for the y values. They have to have gaussian distribution or be linear wether postive or negative. \n",
    "\n",
    "-   What are the goals and objectives of the project?\n",
    "\n",
    "    The goal is to develop a set of y values that will then be used to predict a random x value given. And then calculate how far away it is from the real y value\n",
    "\n",
    "-   What is the expected output of the machine learning algorithm?\n",
    "\n",
    "    the total cost of the predicted y value\n",
    "\n",
    "-   What are the constraints and limitations of the problem?\n",
    "\n",
    "    it is currently for 1 variable, a w and b variable need to be given\n",
    "\n",
    "### 2. Equation\n",
    "\n",
    "The equation for cost with one variable is:\n",
    "  $$J(w,b) = \\frac{1}{2m} \\sum\\limits_{i = 0}^{m-1} (f_{w,b}(x^{(i)}) - y^{(i)})^2 \\tag{1}$$ \n",
    " \n",
    "where \n",
    "  $$f_{w,b}(x^{(i)}) = wx^{(i)} + b \\tag{2}$$\n",
    "  \n",
    "- $f_{w,b}(x^{(i)})$ is our prediction for example $i$ using parameters $w,b$.  \n",
    "- $(f_{w,b}(x^{(i)}) -y^{(i)})^2$ is the squared difference between the target value and the prediction.   \n",
    "- These differences are summed over all the $m$ examples and divided by `2m` to produce the cost, $J(w,b)$.\n",
    "\n",
    "### 3. Code Implementation"
   ]
  },
  {
   "cell_type": "code",
   "execution_count": 12,
   "metadata": {},
   "outputs": [
    {
     "data": {
      "text/plain": [
       "154430.875"
      ]
     },
     "execution_count": 12,
     "metadata": {},
     "output_type": "execute_result"
    }
   ],
   "source": [
    "import numpy as np\n",
    "\n",
    "x = np.array([2,5,8,10])\n",
    "y = np.array([100,300,600,900])\n",
    "\n",
    "def compute_cost(x,y,w,b):\n",
    "    m = len(x)\n",
    "    f_wb = w * x + b\n",
    "    cost =  (f_wb - y) ** 2\n",
    "    total_cost = (1/(2*m)) * np.sum(cost)\n",
    "    return total_cost\n",
    "\n",
    "\n",
    "compute_cost(x,y,1,1)"
   ]
  }
 ],
 "metadata": {
  "kernelspec": {
   "display_name": "supervised",
   "language": "python",
   "name": "python3"
  },
  "language_info": {
   "codemirror_mode": {
    "name": "ipython",
    "version": 3
   },
   "file_extension": ".py",
   "mimetype": "text/x-python",
   "name": "python",
   "nbconvert_exporter": "python",
   "pygments_lexer": "ipython3",
   "version": "3.11.3"
  },
  "orig_nbformat": 4
 },
 "nbformat": 4,
 "nbformat_minor": 2
}
