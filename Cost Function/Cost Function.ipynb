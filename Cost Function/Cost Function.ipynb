{
 "cells": [
  {
   "attachments": {},
   "cell_type": "markdown",
   "metadata": {},
   "source": [
    "#### **Cost Function**\n",
    "\n",
    "**What is it?**\n",
    "\n",
    "The cost function takes in a (x,y) and it uses the x to predict the y value, called y hat. The cost function then calculates the difference between the predicted y value and the real y value\n",
    "\n",
    "**How? (Theoritical + code)**\n",
    "\n"
   ]
  },
  {
   "cell_type": "code",
   "execution_count": null,
   "metadata": {},
   "outputs": [],
   "source": []
  }
 ],
 "metadata": {
  "language_info": {
   "name": "python"
  },
  "orig_nbformat": 4
 },
 "nbformat": 4,
 "nbformat_minor": 2
}
